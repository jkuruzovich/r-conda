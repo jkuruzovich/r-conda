{
 "cells": [
  {
   "cell_type": "markdown",
   "metadata": {
    "slideshow": {
     "slide_type": "slide"
    }
   },
   "source": [
    "[![AnalyticsDojo](https://github.com/rpi-techfundamentals/spring2019-materials/blob/master/fig/final-logo.png?raw=1)](http://rpi.analyticsdojo.com)\n",
    "<center><h1>Introduction to R - Tidyverse </h1></center>\n",
    "<center><h3><a href = 'http://rpi.analyticsdojo.com'>rpi.analyticsdojo.com</a></h3></center>"
   ]
  },
  {
   "cell_type": "markdown",
   "metadata": {},
   "source": [
    "## Overview\n",
    "\n",
    "> It is often said that 80% of data analysis is spent on the process of cleaning and preparing the data. (Dasu and Johnson, 2003)\n",
    "\n",
    "Thus before you can even get to doing any sort of sophisticated analysis or plotting, you'll generally first need to: \n",
    "\n",
    "1. ***Manipulating*** data frames, e.g. filtering, summarizing, and conducting calculations across groups.\n",
    "2. ***Tidying*** data into the appropriate format\n",
    "\n"
   ]
  },
  {
   "cell_type": "markdown",
   "metadata": {
    "slideshow": {
     "slide_type": "subslide"
    }
   },
   "source": [
    "# What is the Tidyverse?"
   ]
  },
  {
   "cell_type": "markdown",
   "metadata": {
    "slideshow": {
     "slide_type": "subslide"
    }
   },
   "source": [
    "## Tidyverse\n",
    "- \"The tidyverse is a set of packages that work in harmony because they share common data representations and API design.\" -Hadley Wickham\n",
    "- The variety of packages include `dplyr`, `tibble`, `tidyr`, `readr`, `purrr` (and more).\n"
   ]
  },
  {
   "cell_type": "markdown",
   "metadata": {},
   "source": [
    "![](http://r4ds.had.co.nz/diagrams/data-science-explore.png)\n",
    "- From [R for Data Science](http://r4ds.had.co.nz/explore-intro.html) by [Hadley Wickham](https://github.com/hadley)"
   ]
  },
  {
   "cell_type": "markdown",
   "metadata": {},
   "source": [
    "## Schools of Thought\n",
    "\n",
    "There are two competing schools of thought within the R community.\n",
    "\n",
    "* We should stick to the base R functions to do manipulating and tidying; `tidyverse` uses syntax that's unlike base R and is superfluous.\n",
    "* We should start teaching students to manipulate data using `tidyverse` tools because they are straightfoward to use, more readable than base R, and speed up the tidying process.\n",
    "\n",
    "We'll show you some of the `tidyverse` tools so you can make an informed decision about whether you want to use base R or these newfangled packages."
   ]
  },
  {
   "cell_type": "markdown",
   "metadata": {},
   "source": [
    "## Dataframe Manipulation using Base R Functions\n",
    "\n",
    "- So far, you’ve seen the basics of manipulating data frames, e.g. subsetting, merging, and basic calculations. \n",
    "- For instance, we can use base R functions to calculate summary statistics across groups of observations,\n",
    "- e.g. the mean GDP per capita within each region:\n"
   ]
  },
  {
   "cell_type": "code",
   "execution_count": 1,
   "metadata": {},
   "outputs": [
    {
     "data": {
      "text/html": [
       "<table>\n",
       "<thead><tr><th scope=col>country</th><th scope=col>year</th><th scope=col>pop</th><th scope=col>continent</th><th scope=col>lifeExp</th><th scope=col>gdpPercap</th></tr></thead>\n",
       "<tbody>\n",
       "\t<tr><td>Afghanistan</td><td>1952       </td><td> 8425333   </td><td>Asia       </td><td>28.801     </td><td>779.4453   </td></tr>\n",
       "\t<tr><td>Afghanistan</td><td>1957       </td><td> 9240934   </td><td>Asia       </td><td>30.332     </td><td>820.8530   </td></tr>\n",
       "\t<tr><td>Afghanistan</td><td>1962       </td><td>10267083   </td><td>Asia       </td><td>31.997     </td><td>853.1007   </td></tr>\n",
       "\t<tr><td>Afghanistan</td><td>1967       </td><td>11537966   </td><td>Asia       </td><td>34.020     </td><td>836.1971   </td></tr>\n",
       "\t<tr><td>Afghanistan</td><td>1972       </td><td>13079460   </td><td>Asia       </td><td>36.088     </td><td>739.9811   </td></tr>\n",
       "\t<tr><td>Afghanistan</td><td>1977       </td><td>14880372   </td><td>Asia       </td><td>38.438     </td><td>786.1134   </td></tr>\n",
       "</tbody>\n",
       "</table>\n"
      ],
      "text/latex": [
       "\\begin{tabular}{r|llllll}\n",
       " country & year & pop & continent & lifeExp & gdpPercap\\\\\n",
       "\\hline\n",
       "\t Afghanistan & 1952        &  8425333    & Asia        & 28.801      & 779.4453   \\\\\n",
       "\t Afghanistan & 1957        &  9240934    & Asia        & 30.332      & 820.8530   \\\\\n",
       "\t Afghanistan & 1962        & 10267083    & Asia        & 31.997      & 853.1007   \\\\\n",
       "\t Afghanistan & 1967        & 11537966    & Asia        & 34.020      & 836.1971   \\\\\n",
       "\t Afghanistan & 1972        & 13079460    & Asia        & 36.088      & 739.9811   \\\\\n",
       "\t Afghanistan & 1977        & 14880372    & Asia        & 38.438      & 786.1134   \\\\\n",
       "\\end{tabular}\n"
      ],
      "text/markdown": [
       "\n",
       "| country | year | pop | continent | lifeExp | gdpPercap |\n",
       "|---|---|---|---|---|---|\n",
       "| Afghanistan | 1952        |  8425333    | Asia        | 28.801      | 779.4453    |\n",
       "| Afghanistan | 1957        |  9240934    | Asia        | 30.332      | 820.8530    |\n",
       "| Afghanistan | 1962        | 10267083    | Asia        | 31.997      | 853.1007    |\n",
       "| Afghanistan | 1967        | 11537966    | Asia        | 34.020      | 836.1971    |\n",
       "| Afghanistan | 1972        | 13079460    | Asia        | 36.088      | 739.9811    |\n",
       "| Afghanistan | 1977        | 14880372    | Asia        | 38.438      | 786.1134    |\n",
       "\n"
      ],
      "text/plain": [
       "  country     year pop      continent lifeExp gdpPercap\n",
       "1 Afghanistan 1952  8425333 Asia      28.801  779.4453 \n",
       "2 Afghanistan 1957  9240934 Asia      30.332  820.8530 \n",
       "3 Afghanistan 1962 10267083 Asia      31.997  853.1007 \n",
       "4 Afghanistan 1967 11537966 Asia      34.020  836.1971 \n",
       "5 Afghanistan 1972 13079460 Asia      36.088  739.9811 \n",
       "6 Afghanistan 1977 14880372 Asia      38.438  786.1134 "
      ]
     },
     "metadata": {},
     "output_type": "display_data"
    }
   ],
   "source": [
    "gapminder <- read.csv(\"gapminder-FiveYearData.csv\",\n",
    "          stringsAsFactors = TRUE)\n",
    "head(gapminder)"
   ]
  },
  {
   "cell_type": "markdown",
   "metadata": {},
   "source": [
    "## But this isn't ideal because it involves a fair bit of repetition. Repeating yourself will cost you time, both now and later, and potentially introduce some nasty bugs."
   ]
  },
  {
   "cell_type": "markdown",
   "metadata": {},
   "source": [
    "\n",
    "# Dataframe Manipulation using dplyr\n",
    "\n",
    "\n",
    "\n",
    "Here we're going to cover 6 of the most commonly used functions as well as using pipes (`%>%`) to combine them.\n",
    "\n",
    "1. `select()`\n",
    "2. `filter()`\n",
    "3. `group_by()`\n",
    "4. `summarize()`\n",
    "5. `mutate()`\n",
    "6. `arrange()`\n",
    "\n",
    "If you have have not installed this package earlier, please do so now:\n",
    "\n",
    "\n",
    "```r\n",
    "install.packages('dplyr')\n",
    "```"
   ]
  },
  {
   "cell_type": "markdown",
   "metadata": {},
   "source": [
    "## Dataframe Manipulation using `dplyr`\n",
    "\n",
    "Luckily, the [`dplyr`](https://cran.r-project.org/web/packages/dplyr/dplyr.pdf) package provides a number of very useful functions for manipulating dataframes. These functions will save you time by reducing repetition. As an added bonus, you might even find the `dplyr` grammar easier to read.\n",
    "\n",
    "- [\"A fast, consistent tool for working with data frame like objects, both in memory and out of memory.\"](https://cran.r-project.org/web/packages/dplyr/index.html)\n",
    "- Subset observations using their value with `filter()`.\n",
    "- Reorder rows using `arrange()`.\n",
    "- Select columns using  `select()`.\n",
    "- Recode variables useing `mutate()`.\n",
    "- Sumarize variables using `summarise()`."
   ]
  },
  {
   "cell_type": "code",
   "execution_count": null,
   "metadata": {},
   "outputs": [
    {
     "name": "stderr",
     "output_type": "stream",
     "text": [
      "Warning message:\n",
      "“package ‘dplyr’ was built under R version 3.6.3”\n",
      "Attaching package: ‘dplyr’\n",
      "\n",
      "The following objects are masked from ‘package:stats’:\n",
      "\n",
      "    filter, lag\n",
      "\n",
      "The following objects are masked from ‘package:base’:\n",
      "\n",
      "    intersect, setdiff, setequal, union\n",
      "\n",
      "Warning message:\n",
      "“package ‘ggplot2’ was built under R version 3.6.3”Warning message:\n",
      "“package ‘tidyverse’ was built under R version 3.6.3”"
     ]
    }
   ],
   "source": [
    "#Now lets load some packages:\n",
    "library(dplyr)\n",
    "library(ggplot2)\n",
    "library(tidyverse)"
   ]
  },
  {
   "cell_type": "markdown",
   "metadata": {},
   "source": [
    "# dplyr select\n",
    "\n",
    "Imagine that we just received the gapminder dataset, but are only interested in a few variables in it. We could use the `select()` function to keep only the columns corresponding to variables we select.\n"
   ]
  },
  {
   "cell_type": "code",
   "execution_count": null,
   "metadata": {},
   "outputs": [],
   "source": [
    "year_country_gdp <-gapminder[,c(\"year\",\"country\")] \n",
    "year_country_gdp"
   ]
  },
  {
   "cell_type": "code",
   "execution_count": null,
   "metadata": {},
   "outputs": [],
   "source": [
    "year_country_gdp <- select(gapminder, year, country, gdpPercap)\n",
    "head(year_country_gdp)"
   ]
  },
  {
   "cell_type": "markdown",
   "metadata": {},
   "source": [
    "## dplyr Piping\n",
    "- `%>%` Is used to help to write cleaner code.\n",
    "- It is loaded by default when running the `tidyverse`, but it comes from the `magrittr` package.\n",
    "- Input from one command is piped to another without saving directly in memory with an intermediate throwaway variable.\n",
    "-Since the pipe grammar is unlike anything we've seen in R before, let's repeat what we've done above using pipes."
   ]
  },
  {
   "cell_type": "code",
   "execution_count": null,
   "metadata": {},
   "outputs": [],
   "source": [
    "year_country_gdp <- gapminder %>% select(year,country,gdpPercap)\n"
   ]
  },
  {
   "cell_type": "markdown",
   "metadata": {},
   "source": [
    "## dplyr filter\n",
    "\n",
    "Now let's say we're only interested in African countries. We can combine `select` and `filter` to select only the observations where `continent` is `Africa`.\n",
    "\n",
    "As with last time, first we pass the gapminder dataframe to the `filter()` function, then we pass the filtered version of the gapminder dataframe to the `select()` function.\n",
    "\n",
    "To clarify, both the `select` and `filter` functions subsets the data frame. The difference is that `select` extracts certain *columns*, while `filter` extracts certain *rows*.\n",
    "\n",
    "**Note:** The order of operations is very important in this case. If we used 'select' first, filter would not be able to find the variable `continent` since we would have removed it in the previous step.\n"
   ]
  },
  {
   "cell_type": "code",
   "execution_count": null,
   "metadata": {},
   "outputs": [],
   "source": [
    "year_country_gdp_africa <- gapminder %>%\n",
    "    filter(continent == \"Africa\") %>%\n",
    "    select(year,country,gdpPercap)"
   ]
  },
  {
   "cell_type": "markdown",
   "metadata": {},
   "source": [
    "## dplyr Calculations Across Groups\n",
    "\n",
    "A common task you'll encounter when working with data is running calculations on different groups within the data. For instance, what if we wanted to calculate the mean GDP per capita for each continent?\n",
    "\n",
    "In base R, you would have to run the `mean()` function for each subset of data:\n"
   ]
  },
  {
   "cell_type": "code",
   "execution_count": null,
   "metadata": {},
   "outputs": [],
   "source": [
    "mean(gapminder[gapminder$continent == \"Africa\", \"gdpPercap\"])\n",
    "mean(gapminder[gapminder$continent == \"Americas\", \"gdpPercap\"])\n",
    "mean(gapminder[gapminder$continent == \"Asia\", \"gdpPercap\"])\n"
   ]
  },
  {
   "cell_type": "markdown",
   "metadata": {},
   "source": [
    "# dplyr split-apply-combine\n",
    "\n",
    "The abstract problem we're encountering here is know as \"split-apply-combine\":\n",
    "\n",
    "![](../../fig/splitapply.png)\n",
    "\n",
    "We want to *split* our data into groups (in this case continents), *apply* some calculations on each group, then  *combine* the results together afterwards. \n",
    "\n",
    "Module 4 gave some ways to do split-apply-combine type stuff using the `apply` family of functions, but those are error prone and messy.\n",
    "\n",
    "Luckily, `dplyr` offers a much cleaner, straight-forward solution to this problem. \n",
    "\n",
    "\n",
    "```r\n",
    "# remove this column -- there are two easy ways!\n",
    "\n",
    "```"
   ]
  },
  {
   "cell_type": "markdown",
   "metadata": {},
   "source": [
    "## dplyr group_by\n",
    "\n",
    "We've already seen how `filter()` can help us select observations that meet certain criteria (in the above: `continent == \"Europe\"`). More helpful, however, is the `group_by()` function, which will essentially use every unique criteria that we could have used in `filter()`.\n",
    "\n",
    "A `grouped_df` can be thought of as a `list` where each item in the `list` is a `data.frame` which contains only the rows that correspond to the a particular value `continent` (at least in the example above).\n",
    "\n",
    "![](../../fig/dplyr-fig2.png)\n"
   ]
  },
  {
   "cell_type": "code",
   "execution_count": null,
   "metadata": {},
   "outputs": [],
   "source": [
    "#Summarize returns a dataframe. \n",
    "gdp_bycontinents <- gapminder %>%\n",
    "    group_by(continent) %>%\n",
    "    summarize(mean_gdpPercap = mean(gdpPercap))\n",
    "head(gdp_bycontinents)"
   ]
  },
  {
   "cell_type": "markdown",
   "metadata": {},
   "source": [
    "![](../../fig/dplyr-fig3.png)\n",
    "\n",
    "That allowed us to calculate the mean gdpPercap for each continent. But it gets even better -- the function `group_by()` allows us to group by multiple variables. Let's group by `year` and `continent`.\n",
    "\n"
   ]
  },
  {
   "cell_type": "code",
   "execution_count": null,
   "metadata": {},
   "outputs": [],
   "source": [
    "gdp_bycontinents_byyear <- gapminder %>%\n",
    "    group_by(continent, year) %>%\n",
    "    summarize(mean_gdpPercap = mean(gdpPercap))\n",
    "gdp_bycontinents_byyear"
   ]
  },
  {
   "cell_type": "code",
   "execution_count": null,
   "metadata": {},
   "outputs": [],
   "source": [
    "\n",
    "mpg<-mpg\n",
    "str(mpg)\n"
   ]
  },
  {
   "cell_type": "markdown",
   "metadata": {},
   "source": [
    "### That is already quite powerful, but it gets even better! You're not limited to defining 1 new variable in `summarize()`.\n"
   ]
  },
  {
   "cell_type": "code",
   "execution_count": null,
   "metadata": {},
   "outputs": [],
   "source": [
    "gdp_pop_bycontinents_byyear <- gapminder %>%\n",
    "    group_by(continent, year) %>%\n",
    "    summarize(mean_gdpPercap = mean(gdpPercap),\n",
    "              sd_gdpPercap = sd(gdpPercap),\n",
    "              mean_pop = mean(pop),\n",
    "              sd_pop = sd(pop))\n",
    "head(gdp_pop_bycontinents_byyear)"
   ]
  },
  {
   "cell_type": "markdown",
   "metadata": {},
   "source": [
    "## Basics\n",
    "- Use the mpg dataset to create summaries by manufacturer/year for 8 cyl vehicles. "
   ]
  },
  {
   "cell_type": "code",
   "execution_count": null,
   "metadata": {},
   "outputs": [],
   "source": [
    "mpg<-mpg\n",
    "head(mpg)"
   ]
  },
  {
   "cell_type": "code",
   "execution_count": null,
   "metadata": {},
   "outputs": [],
   "source": [
    "#This just gives a dataframe with 70 obs, only 8 cylinder cars \n",
    "mpg.8cyl<-mpg %>% \n",
    "  filter(cyl == 8)\n",
    "mpg.8cyl\n"
   ]
  },
  {
   "cell_type": "code",
   "execution_count": null,
   "metadata": {
    "collapsed": true
   },
   "outputs": [],
   "source": [
    "#Filter to only those cars that have miles per gallon equal to \n",
    "mpg.8cyl<-mpg %>% \n",
    "  filter(cyl == 8)\n",
    "\n",
    "#Alt Syntax\n",
    "mpg.8cyl<-filter(mpg, cyl == 8)\n",
    "\n",
    "mpg.8cyl"
   ]
  },
  {
   "cell_type": "code",
   "execution_count": null,
   "metadata": {
    "collapsed": true
   },
   "outputs": [],
   "source": [
    "#Sort cars by MPG highway(hwy) then city(cty)\n",
    "mpgsort<-arrange(mpg, hwy, cty)\n",
    "mpgsort"
   ]
  },
  {
   "cell_type": "code",
   "execution_count": null,
   "metadata": {
    "collapsed": true
   },
   "outputs": [],
   "source": [
    "#From the documentation https://cran.r-project.org/web/packages/dplyr/dplyr.pdf  \n",
    "select(iris, starts_with(\"petal\")) #returns columns that start with \"Petal\"\n",
    "select(iris, ends_with(\"width\")) #returns columns that start with \"Width\"\n",
    "select(iris, contains(\"etal\"))\n",
    "select(iris, matches(\".t.\"))\n",
    "select(iris, Petal.Length, Petal.Width)\n",
    "vars <- c(\"Petal.Length\", \"Petal.Width\")\n",
    "select(iris, one_of(vars))"
   ]
  },
  {
   "cell_type": "code",
   "execution_count": null,
   "metadata": {
    "collapsed": true
   },
   "outputs": [],
   "source": [
    "#Recoding Data\n",
    "# See Creating new variables with mutate and ifelse: \n",
    "# https://rstudio-pubs-static.s3.amazonaws.com/116317_e6922e81e72e4e3f83995485ce686c14.html \n",
    "mutate(mpg, displ_l = displ / 61.0237)\n"
   ]
  },
  {
   "cell_type": "code",
   "execution_count": null,
   "metadata": {
    "collapsed": true
   },
   "outputs": [],
   "source": [
    "# Example taken from David Ranzolin\n",
    "# https://rstudio-pubs-static.s3.amazonaws.com/116317_e6922e81e72e4e3f83995485ce686c14.html#/9 \n",
    "section <- c(\"MATH111\", \"MATH111\", \"ENG111\")\n",
    "grade <- c(78, 93, 56)\n",
    "student <- c(\"David\", \"Kristina\", \"Mycroft\")\n",
    "gradebook <- data.frame(section, grade, student)\n",
    "\n",
    "#As the output is a tibble, here we are saving each intermediate version.\n",
    "gradebook2<-mutate(gradebook, Pass.Fail = ifelse(grade > 60, \"Pass\", \"Fail\"))  \n",
    "\n",
    "gradebook3<-mutate(gradebook2, letter = ifelse(grade %in% 60:69, \"D\",\n",
    "                                               ifelse(grade %in% 70:79, \"C\",\n",
    "                                                      ifelse(grade %in% 80:89, \"B\",\n",
    "                                                             ifelse(grade %in% 90:99, \"A\", \"F\")))))\n",
    "\n",
    "gradebook3"
   ]
  },
  {
   "cell_type": "code",
   "execution_count": null,
   "metadata": {
    "collapsed": true
   },
   "outputs": [],
   "source": [
    "#Here we are using piping to do this more effectively. \n",
    "gradebook4<-gradebook %>%\n",
    "mutate(Pass.Fail = ifelse(grade > 60, \"Pass\", \"Fail\"))  %>%\n",
    "mutate(letter = ifelse(grade %in% 60:69, \"D\", \n",
    "                                  ifelse(grade %in% 70:79, \"C\",\n",
    "                                         ifelse(grade %in% 80:89, \"B\",\n",
    "                                                ifelse(grade %in% 90:99, \"A\", \"F\")))))\n",
    "\n",
    "\n",
    "gradebook4"
   ]
  },
  {
   "cell_type": "code",
   "execution_count": null,
   "metadata": {
    "collapsed": true
   },
   "outputs": [],
   "source": [
    "#find the average city and highway mpg\n",
    "summarise(mpg, mean(cty), mean(hwy))\n",
    "#find the average city and highway mpg by cylander\n",
    "summarise(group_by(mpg, cyl), mean(cty), mean(hwy))\n",
    "summarise(group_by(mtcars, cyl), m = mean(disp), sd = sd(disp))\n",
    "\n",
    "# With data frames, you can create and immediately use summaries\n",
    "by_cyl <- mtcars %>% group_by(cyl)\n",
    "by_cyl %>% summarise(a = n(), b = a + 1)"
   ]
  },
  {
   "cell_type": "markdown",
   "metadata": {},
   "source": [
    "#This was adopted from the Berkley R Bootcamp. "
   ]
  }
 ],
 "metadata": {
  "anaconda-cloud": {},
  "celltoolbar": "Slideshow",
  "kernelspec": {
   "display_name": "R [conda env:rjupyter]",
   "language": "R",
   "name": "conda-env-rjupyter-r"
  },
  "language_info": {
   "codemirror_mode": "r",
   "file_extension": ".r",
   "mimetype": "text/x-r-source",
   "name": "R",
   "pygments_lexer": "r",
   "version": "3.6.0"
  }
 },
 "nbformat": 4,
 "nbformat_minor": 2
}
